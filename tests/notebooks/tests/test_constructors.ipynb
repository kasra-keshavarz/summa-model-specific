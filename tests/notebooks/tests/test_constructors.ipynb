{
 "cells": [
  {
   "cell_type": "markdown",
   "id": "1fa0a27a-3838-4dd0-8c74-f618dcb7b045",
   "metadata": {},
   "source": [
    "# `__init__`"
   ]
  },
  {
   "cell_type": "code",
   "execution_count": 1,
   "id": "7f13ffd9-a315-4ece-bb69-e6686a58c967",
   "metadata": {
    "editable": true,
    "slideshow": {
     "slide_type": ""
    },
    "tags": []
   },
   "outputs": [],
   "source": [
    "import summaflow as sf\n",
    "import geopandas as gpd\n",
    "import xarray as xr\n",
    "import pint_xarray\n",
    "import pint_pandas\n",
    "import pint\n",
    "\n",
    "import os"
   ]
  },
  {
   "cell_type": "code",
   "execution_count": 2,
   "id": "ee40595b-425e-40c7-8e75-f1581b8cb8ee",
   "metadata": {},
   "outputs": [
    {
     "data": {
      "text/plain": [
       "'/Users/kasrakeshavarz/Documents/github-repos/summa-model-specific/src/summaflow/__init__.py'"
      ]
     },
     "execution_count": 2,
     "metadata": {},
     "output_type": "execute_result"
    }
   ],
   "source": [
    "sf.__file__"
   ]
  },
  {
   "cell_type": "code",
   "execution_count": 3,
   "id": "ab8797ec-c976-423b-a098-7e673700a4eb",
   "metadata": {},
   "outputs": [],
   "source": [
    "# paths\n",
    "root_path = '../../../examples/bow-at-calgary-geofabric/'\n",
    "riv_path = os.path.join(root_path, 'bcalgary_rivers.shp')\n",
    "cat_path = os.path.join(root_path, 'bcalgary_subbasins.shp')\n",
    "hru_path = os.path.join(root_path, 'bcalgary_subbasins.shp')\n",
    "\n",
    "riv_obj = gpd.read_file(riv_path)\n",
    "cat_obj = gpd.read_file(cat_path)\n",
    "hru_obj = gpd.read_file(hru_path)"
   ]
  },
  {
   "cell_type": "code",
   "execution_count": 4,
   "id": "2072d943-bc69-428b-8f7d-01b1f09fb0cf",
   "metadata": {
    "editable": true,
    "slideshow": {
     "slide_type": ""
    },
    "tags": []
   },
   "outputs": [],
   "source": [
    "exp = sf.SUMMAWorkflow(\n",
    "    forcing_data = ['1', '2'],\n",
    "    forcing_vars = {\n",
    "        'pr': 'precipitation',\n",
    "        'temp': 'airtemp',\n",
    "        'measurement_height': 'mHeight',\n",
    "    },\n",
    "    forcing_units = {\n",
    "        'pr': 'mm',\n",
    "        'temp': 'degC',\n",
    "    },\n",
    "    forcing_to_units = {\n",
    "        'pr': 'kgm^/s',\n",
    "        'temp': 'K',\n",
    "    },\n",
    "    forcing_attrs = {\n",
    "        'measurement_height': 40,\n",
    "        'local': {\n",
    "            'pr': {\n",
    "                'long_name': 'precipitation at the surface',\n",
    "            },\n",
    "            'temp': {\n",
    "                'long_name': 'Air temperature',\n",
    "            },\n",
    "        },\n",
    "        'global': {},\n",
    "    },\n",
    "    topology_data = {\n",
    "        'riv': riv_obj,\n",
    "        'hru': hru_obj,\n",
    "        'cat': cat_obj,\n",
    "    },\n",
    "    topology_units = {'a': 'm', 'c': 'ha'},\n",
    "    topology_to_units = {'a': 'bar', 'c': 'dca'},\n",
    "    topology_attrs = {\n",
    "        'gru_fid': 'COMID',\n",
    "        'hru_fid': 'COMID',\n",
    "    },\n",
    ")"
   ]
  },
  {
   "cell_type": "code",
   "execution_count": 5,
   "id": "a7e93b3f-7978-4ff5-9609-1fb081b3b87c",
   "metadata": {
    "scrolled": true
   },
   "outputs": [
    {
     "data": {
      "text/plain": [
       "Forcing files: ['1', '2']\n",
       "GRUs: 169\n",
       "HRUs: 169\n",
       "Rivers: 169 \n",
       "Initialized: False"
      ]
     },
     "execution_count": 5,
     "metadata": {},
     "output_type": "execute_result"
    }
   ],
   "source": [
    "exp"
   ]
  },
  {
   "cell_type": "code",
   "execution_count": 6,
   "id": "95f167d4-ad1e-4cb4-941c-6ecaca01c248",
   "metadata": {},
   "outputs": [
    {
     "name": "stderr",
     "output_type": "stream",
     "text": [
      "/Users/kasrakeshavarz/Documents/github-repos/summa-model-specific/src/summaflow/utils.py:192: UserWarning: Using EPSG:3857 for centroid calculations on geographic data. For better accuracy, specify a local projection using calculation_crs parameter.\n",
      "  warnings.warn(\n"
     ]
    }
   ],
   "source": [
    "exp.init_attrs()"
   ]
  },
  {
   "cell_type": "code",
   "execution_count": null,
   "id": "93147951-f431-47a9-9892-34b147cc8eb7",
   "metadata": {},
   "outputs": [],
   "source": [
    "exp.attrs"
   ]
  }
 ],
 "metadata": {
  "kernelspec": {
   "display_name": "summaflow",
   "language": "python",
   "name": "summaflow"
  },
  "language_info": {
   "codemirror_mode": {
    "name": "ipython",
    "version": 3
   },
   "file_extension": ".py",
   "mimetype": "text/x-python",
   "name": "python",
   "nbconvert_exporter": "python",
   "pygments_lexer": "ipython3",
   "version": "3.12.9"
  }
 },
 "nbformat": 4,
 "nbformat_minor": 5
}
