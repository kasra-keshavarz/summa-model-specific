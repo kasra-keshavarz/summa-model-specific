{
 "cells": [
  {
   "cell_type": "code",
   "execution_count": null,
   "id": "fe1f78df-6968-4434-a1fb-0feb82f68627",
   "metadata": {
    "editable": true,
    "slideshow": {
     "slide_type": ""
    },
    "tags": []
   },
   "outputs": [],
   "source": [
    "# summaflow library\n",
    "from summaflow import (\n",
    "    Stats,\n",
    "    GeoLayer,\n",
    "    SUMMAWorkflow,\n",
    ")\n",
    "\n",
    "# 3rd party libraries\n",
    "import pandas as pd\n",
    "import numpy as np\n",
    "\n",
    "# built-in libraries\n",
    "import os"
   ]
  },
  {
   "cell_type": "code",
   "execution_count": null,
   "id": "95b65f88-0fa6-4db1-870b-08415720410e",
   "metadata": {},
   "outputs": [],
   "source": [
    "elv = GeoLayer("
   ]
  }
 ],
 "metadata": {
  "kernelspec": {
   "display_name": "summaflow",
   "language": "python",
   "name": "summaflow"
  },
  "language_info": {
   "codemirror_mode": {
    "name": "ipython",
    "version": 3
   },
   "file_extension": ".py",
   "mimetype": "text/x-python",
   "name": "python",
   "nbconvert_exporter": "python",
   "pygments_lexer": "ipython3",
   "version": "3.12.9"
  }
 },
 "nbformat": 4,
 "nbformat_minor": 5
}
