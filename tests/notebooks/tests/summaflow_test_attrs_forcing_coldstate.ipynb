{
 "cells": [
  {
   "cell_type": "code",
   "execution_count": 1,
   "id": "4534faeb-c233-485b-a45d-b38574adff32",
   "metadata": {
    "editable": true,
    "slideshow": {
     "slide_type": ""
    },
    "tags": []
   },
   "outputs": [],
   "source": [
    "import geopandas as gpd\n",
    "import xarray as xr\n",
    "import pandas as pd\n",
    "\n",
    "import pint_xarray\n",
    "import pint_pandas\n",
    "import pint\n",
    "\n",
    "from summaflow import (\n",
    "    GeoLayer,\n",
    "    SUMMAWorkflow,\n",
    ")\n",
    "\n",
    "import os\n",
    "import glob"
   ]
  },
  {
   "cell_type": "code",
   "execution_count": 2,
   "id": "7fd0ec77-13ea-453c-bc94-9b4e4605e4ff",
   "metadata": {},
   "outputs": [],
   "source": [
    "# paths\n",
    "root_path_layers = '/Users/kasrakeshavarz/Documents/github-repos/summa-model-specific/tests/notebooks/test-stats/'\n",
    "\n",
    "# layers' paths\n",
    "landcover_path = os.path.join(root_path_layers, 'landsat-landcover')\n",
    "soilclass_path = os.path.join(root_path_layers, 'usda-soil')\n",
    "merithdyr_path = os.path.join(root_path_layers, 'merit-hydro')\n",
    "\n",
    "# geolayer's path\n",
    "root_path_geoms = '../../../examples/bow-at-calgary-geofabric/'\n",
    "riv_path = os.path.join(root_path_geoms, 'bcalgary_rivers.shp')\n",
    "cat_path = os.path.join(root_path_geoms, 'bcalgary_subbasins.shp')\n",
    "hru_path = os.path.join(root_path_geoms, 'bcalgary_subbasins.shp')\n",
    "\n",
    "# forcings path\n",
    "root_path_forcings = '/Users/kasrakeshavarz/Documents/github-repos/summa-model-specific/tests/notebooks/forcings'"
   ]
  },
  {
   "cell_type": "code",
   "execution_count": 3,
   "id": "1c3d3557-ae25-4fd5-93ce-1a54d0277e9e",
   "metadata": {},
   "outputs": [],
   "source": [
    "riv_obj = gpd.read_file(riv_path)\n",
    "cat_obj = gpd.read_file(cat_path)\n",
    "hru_obj = gpd.read_file(hru_path)"
   ]
  },
  {
   "cell_type": "code",
   "execution_count": 4,
   "id": "c9906149-4776-49da-b089-bbb44fd81b13",
   "metadata": {},
   "outputs": [],
   "source": [
    "# layers needed by the setup workflow\n",
    "# elevation\n",
    "elv = GeoLayer.from_maf(\n",
    "    maf_stats=os.path.join(merithdyr_path, 'summaflow_stats_elv.csv'),\n",
    "    maf_layer=os.path.join(merithdyr_path, 'summaflow_elv.tif'),\n",
    "    maf_geolayer=os.path.join(cat_path),\n",
    "    unit = 'meters',\n",
    ")\n",
    "# landcover\n",
    "landcover = GeoLayer.from_maf(\n",
    "    maf_stats=os.path.join(landcover_path, 'summaflow_stats_NA_NALCMS_landcover_2020_30m.csv'),\n",
    "    maf_layer=os.path.join(landcover_path, 'summaflow_NA_NALCMS_landcover_2020_30m.tif'),\n",
    "    maf_geolayer=os.path.join(cat_path),\n",
    "    unit = 'dimensionless',\n",
    ")\n",
    "# USDA soil classes\n",
    "soil = GeoLayer.from_maf(\n",
    "    maf_stats=os.path.join(soilclass_path, 'summaflow_stats_soil_classes.csv'),\n",
    "    maf_layer=os.path.join(soilclass_path, 'summaflow_soil_classes.tif'),\n",
    "    maf_geolayer=os.path.join(cat_path),\n",
    "    unit = 'dimensionless',\n",
    ")\n",
    "\n",
    "# dummy layers for `tan_slope`, `contourLength` and `downHRUindex`\n",
    "# until relevant workflows are implemented inside `gistool`\n",
    "slope = elv\n",
    "contour = elv\n",
    "hru_index = elv"
   ]
  },
  {
   "cell_type": "code",
   "execution_count": 5,
   "id": "a0176050-7d96-47fa-a128-08e746e4d814",
   "metadata": {
    "editable": true,
    "slideshow": {
     "slide_type": ""
    },
    "tags": []
   },
   "outputs": [
    {
     "name": "stderr",
     "output_type": "stream",
     "text": [
      "/Users/kasrakeshavarz/Documents/github-repos/summa-model-specific/src/summaflow/core.py:257: UserWarning: `dt_init` not provided in auxillary dictionary; defaulting to forcing time-step.\n",
      "  warnings.warn(\"`dt_init` not provided in auxillary dictionary;\"\n"
     ]
    }
   ],
   "source": [
    "exp = SUMMAWorkflow(\n",
    "    forcing_data = glob.glob(os.path.join(root_path_forcings, '**', '*.nc'), recursive=True),\n",
    "    forcing_name_mapping = {\n",
    "        'pptrate': 'precipitation',\n",
    "        'airtemp': 'air_temperature',\n",
    "    },\n",
    "    forcing_unit_mapping = {\n",
    "        'precipitation': 'meters/hour',\n",
    "        'air_temperature': 'degC',\n",
    "    },\n",
    "    forcing_to_unit_mapping = {\n",
    "        'precipitation': 'mm/s',\n",
    "        'air_temperature': 'K',\n",
    "    },\n",
    "    forcing_attrs = {\n",
    "        'measurement_height': 40,\n",
    "        'measurement_height_unit': 'meters',\n",
    "        'forcing_time_zone': 'utc', # original timezone of the forcing datatset\n",
    "        'target_time_zone': 'America/Edmonton', # if UTC, SUMMA converts to local time zone internally\n",
    "        'local': {\n",
    "            'pr': {\n",
    "                'long_name': 'precipitation at the surface blah blah',\n",
    "            },\n",
    "            'temp': {\n",
    "                'long_name': 'Air temperature',\n",
    "            },\n",
    "        },\n",
    "        'global': {},\n",
    "    },\n",
    "    topology_data = {\n",
    "        'riv': riv_obj,\n",
    "        'hru': hru_obj,\n",
    "        'cat': cat_obj,\n",
    "    },\n",
    "    topology_unit_mapping = {'a': 'm', 'c': 'ha'},\n",
    "    topology_to_unit_mapping = {'a': 'bar', 'c': 'dca'},\n",
    "    topology_attrs = {\n",
    "        'gru_fid': 'COMID',\n",
    "        'hru_fid': 'COMID',\n",
    "    },\n",
    "    geospatial_data = {\n",
    "        'elevation': elv,\n",
    "        'soilTypeIndex': soil,\n",
    "        'vegTypeIndex': landcover,\n",
    "        'tan_slope': slope,\n",
    "        'contourLength': contour,\n",
    "        'downHRUindex': hru_index,\n",
    "    },\n",
    "    settings = {\n",
    "        'model_path': '/Users/kasrakeshavarz/Desktop/test',\n",
    "    },\n",
    "    cold_state = {\n",
    "        'layers': {\n",
    "            'nSoil': 8,\n",
    "            'nSnow': 0,\n",
    "        },\n",
    "        'states': {\n",
    "            'scalarCanopyIce': 0,\n",
    "            'scalarCanopyLiq': 0,\n",
    "            'scalarSnowDepth': 0,\n",
    "            'scalarSWE': 0,\n",
    "            'scalarSfcMeltPond': 0,\n",
    "            'scalarAquiferStorage': 0.4,\n",
    "            'scalarSnowAlbedo': 0,\n",
    "            'scalarCanairTemp': 283.16,\n",
    "            'scalarCanopyTemp': 283.16,\n",
    "            'mLayerTemp': 283.16,\n",
    "            'mLayerVolFracIce': 0,\n",
    "            'mLayerVolFracLiq': 0.4,\n",
    "            'mLayerMatricHead': -1.0,\n",
    "            'mLayerDepth': [0.025, 0.075, 0.15, 0.25, 0.5, 0.5, 1, 1.5],\n",
    "        },\n",
    "    },\n",
    "    auxillary = {\n",
    "        # 'dt_init': 450 # if not provided, defaults to forcing data timestep\n",
    "    }\n",
    ")"
   ]
  },
  {
   "cell_type": "code",
   "execution_count": 6,
   "id": "e21b06b8-89cd-4877-95b0-882e08bcf6ad",
   "metadata": {
    "scrolled": true
   },
   "outputs": [
    {
     "data": {
      "text/plain": [
       "Forcing files: ['/Users/kasrakeshavarz/Documents/github-repos/summa-model-specific/tests/notebooks/forcings/Bow_at_Banff_ERA5_remapped_domain_Bow_at_Banff_ERA5_merged_201101.nc', '/Users/kasrakeshavarz/Documents/github-repos/summa-model-specific/tests/notebooks/forcings/Bow_at_Banff_ERA5_remapped_domain_Bow_at_Banff_ERA5_merged_201102.nc', '/Users/kasrakeshavarz/Documents/github-repos/summa-model-specific/tests/notebooks/forcings/Bow_at_Banff_ERA5_remapped_domain_Bow_at_Banff_ERA5_merged_201103.nc', '/Users/kasrakeshavarz/Documents/github-repos/summa-model-specific/tests/notebooks/forcings/Bow_at_Banff_ERA5_remapped_domain_Bow_at_Banff_ERA5_merged_201104.nc', '/Users/kasrakeshavarz/Documents/github-repos/summa-model-specific/tests/notebooks/forcings/Bow_at_Banff_ERA5_remapped_domain_Bow_at_Banff_ERA5_merged_201105.nc', '/Users/kasrakeshavarz/Documents/github-repos/summa-model-specific/tests/notebooks/forcings/Bow_at_Banff_ERA5_remapped_domain_Bow_at_Banff_ERA5_merged_201106.nc', '/Users/kasrakeshavarz/Documents/github-repos/summa-model-specific/tests/notebooks/forcings/Bow_at_Banff_ERA5_remapped_domain_Bow_at_Banff_ERA5_merged_201107.nc', '/Users/kasrakeshavarz/Documents/github-repos/summa-model-specific/tests/notebooks/forcings/Bow_at_Banff_ERA5_remapped_domain_Bow_at_Banff_ERA5_merged_201108.nc', '/Users/kasrakeshavarz/Documents/github-repos/summa-model-specific/tests/notebooks/forcings/Bow_at_Banff_ERA5_remapped_domain_Bow_at_Banff_ERA5_merged_201109.nc', '/Users/kasrakeshavarz/Documents/github-repos/summa-model-specific/tests/notebooks/forcings/Bow_at_Banff_ERA5_remapped_domain_Bow_at_Banff_ERA5_merged_201110.nc', '/Users/kasrakeshavarz/Documents/github-repos/summa-model-specific/tests/notebooks/forcings/Bow_at_Banff_ERA5_remapped_domain_Bow_at_Banff_ERA5_merged_201111.nc', '/Users/kasrakeshavarz/Documents/github-repos/summa-model-specific/tests/notebooks/forcings/Bow_at_Banff_ERA5_remapped_domain_Bow_at_Banff_ERA5_merged_201112.nc', '/Users/kasrakeshavarz/Documents/github-repos/summa-model-specific/tests/notebooks/forcings/Bow_at_Banff_ERA5_remapped_domain_Bow_at_Banff_ERA5_merged_201201.nc', '/Users/kasrakeshavarz/Documents/github-repos/summa-model-specific/tests/notebooks/forcings/Bow_at_Banff_ERA5_remapped_domain_Bow_at_Banff_ERA5_merged_201202.nc', '/Users/kasrakeshavarz/Documents/github-repos/summa-model-specific/tests/notebooks/forcings/Bow_at_Banff_ERA5_remapped_domain_Bow_at_Banff_ERA5_merged_201203.nc', '/Users/kasrakeshavarz/Documents/github-repos/summa-model-specific/tests/notebooks/forcings/Bow_at_Banff_ERA5_remapped_domain_Bow_at_Banff_ERA5_merged_201204.nc', '/Users/kasrakeshavarz/Documents/github-repos/summa-model-specific/tests/notebooks/forcings/Bow_at_Banff_ERA5_remapped_domain_Bow_at_Banff_ERA5_merged_201205.nc', '/Users/kasrakeshavarz/Documents/github-repos/summa-model-specific/tests/notebooks/forcings/Bow_at_Banff_ERA5_remapped_domain_Bow_at_Banff_ERA5_merged_201206.nc', '/Users/kasrakeshavarz/Documents/github-repos/summa-model-specific/tests/notebooks/forcings/Bow_at_Banff_ERA5_remapped_domain_Bow_at_Banff_ERA5_merged_201207.nc', '/Users/kasrakeshavarz/Documents/github-repos/summa-model-specific/tests/notebooks/forcings/Bow_at_Banff_ERA5_remapped_domain_Bow_at_Banff_ERA5_merged_201208.nc', '/Users/kasrakeshavarz/Documents/github-repos/summa-model-specific/tests/notebooks/forcings/Bow_at_Banff_ERA5_remapped_domain_Bow_at_Banff_ERA5_merged_201209.nc', '/Users/kasrakeshavarz/Documents/github-repos/summa-model-specific/tests/notebooks/forcings/Bow_at_Banff_ERA5_remapped_domain_Bow_at_Banff_ERA5_merged_201210.nc', '/Users/kasrakeshavarz/Documents/github-repos/summa-model-specific/tests/notebooks/forcings/Bow_at_Banff_ERA5_remapped_domain_Bow_at_Banff_ERA5_merged_201211.nc', '/Users/kasrakeshavarz/Documents/github-repos/summa-model-specific/tests/notebooks/forcings/Bow_at_Banff_ERA5_remapped_domain_Bow_at_Banff_ERA5_merged_201212.nc']\n",
       "GRU count: 169\n",
       "HRU count: 169\n",
       "Rivers segments: 169 \n",
       "Initialized: False"
      ]
     },
     "execution_count": 6,
     "metadata": {},
     "output_type": "execute_result"
    }
   ],
   "source": [
    "exp"
   ]
  },
  {
   "cell_type": "markdown",
   "id": "c5891be5-a994-4e04-9178-a8f0baca8617",
   "metadata": {},
   "source": [
    "## Workflow tests"
   ]
  },
  {
   "cell_type": "code",
   "execution_count": 7,
   "id": "b776906b-4e57-4d42-9ef3-727760578550",
   "metadata": {},
   "outputs": [
    {
     "name": "stderr",
     "output_type": "stream",
     "text": [
      "/Users/kasrakeshavarz/Documents/github-repos/summa-model-specific/src/summaflow/utils.py:133: UserWarning: Using EPSG:3857 for centroid calculations on geographic data. For better accuracy, specify a local projection using calculation_crs parameter.\n",
      "  warnings.warn(\n"
     ]
    }
   ],
   "source": [
    "exp.init_attrs(return_ds=False)"
   ]
  },
  {
   "cell_type": "code",
   "execution_count": 8,
   "id": "f922b788-82ba-4393-ab52-8270404b93cc",
   "metadata": {
    "scrolled": true
   },
   "outputs": [],
   "source": [
    "exp.init_forcing(return_ds=False)"
   ]
  },
  {
   "cell_type": "code",
   "execution_count": 9,
   "id": "abd2b15c-bfea-45bd-a8ac-de0a75798a1c",
   "metadata": {},
   "outputs": [],
   "source": [
    "exp.init_cold_state(return_ds=False)"
   ]
  },
  {
   "cell_type": "code",
   "execution_count": 10,
   "id": "ad02cd9f-7d0a-4732-984f-c7c26c9aaae9",
   "metadata": {},
   "outputs": [
    {
     "data": {
      "text/plain": [
       "Forcing files: ['/Users/kasrakeshavarz/Documents/github-repos/summa-model-specific/tests/notebooks/forcings/Bow_at_Banff_ERA5_remapped_domain_Bow_at_Banff_ERA5_merged_201101.nc', '/Users/kasrakeshavarz/Documents/github-repos/summa-model-specific/tests/notebooks/forcings/Bow_at_Banff_ERA5_remapped_domain_Bow_at_Banff_ERA5_merged_201102.nc', '/Users/kasrakeshavarz/Documents/github-repos/summa-model-specific/tests/notebooks/forcings/Bow_at_Banff_ERA5_remapped_domain_Bow_at_Banff_ERA5_merged_201103.nc', '/Users/kasrakeshavarz/Documents/github-repos/summa-model-specific/tests/notebooks/forcings/Bow_at_Banff_ERA5_remapped_domain_Bow_at_Banff_ERA5_merged_201104.nc', '/Users/kasrakeshavarz/Documents/github-repos/summa-model-specific/tests/notebooks/forcings/Bow_at_Banff_ERA5_remapped_domain_Bow_at_Banff_ERA5_merged_201105.nc', '/Users/kasrakeshavarz/Documents/github-repos/summa-model-specific/tests/notebooks/forcings/Bow_at_Banff_ERA5_remapped_domain_Bow_at_Banff_ERA5_merged_201106.nc', '/Users/kasrakeshavarz/Documents/github-repos/summa-model-specific/tests/notebooks/forcings/Bow_at_Banff_ERA5_remapped_domain_Bow_at_Banff_ERA5_merged_201107.nc', '/Users/kasrakeshavarz/Documents/github-repos/summa-model-specific/tests/notebooks/forcings/Bow_at_Banff_ERA5_remapped_domain_Bow_at_Banff_ERA5_merged_201108.nc', '/Users/kasrakeshavarz/Documents/github-repos/summa-model-specific/tests/notebooks/forcings/Bow_at_Banff_ERA5_remapped_domain_Bow_at_Banff_ERA5_merged_201109.nc', '/Users/kasrakeshavarz/Documents/github-repos/summa-model-specific/tests/notebooks/forcings/Bow_at_Banff_ERA5_remapped_domain_Bow_at_Banff_ERA5_merged_201110.nc', '/Users/kasrakeshavarz/Documents/github-repos/summa-model-specific/tests/notebooks/forcings/Bow_at_Banff_ERA5_remapped_domain_Bow_at_Banff_ERA5_merged_201111.nc', '/Users/kasrakeshavarz/Documents/github-repos/summa-model-specific/tests/notebooks/forcings/Bow_at_Banff_ERA5_remapped_domain_Bow_at_Banff_ERA5_merged_201112.nc', '/Users/kasrakeshavarz/Documents/github-repos/summa-model-specific/tests/notebooks/forcings/Bow_at_Banff_ERA5_remapped_domain_Bow_at_Banff_ERA5_merged_201201.nc', '/Users/kasrakeshavarz/Documents/github-repos/summa-model-specific/tests/notebooks/forcings/Bow_at_Banff_ERA5_remapped_domain_Bow_at_Banff_ERA5_merged_201202.nc', '/Users/kasrakeshavarz/Documents/github-repos/summa-model-specific/tests/notebooks/forcings/Bow_at_Banff_ERA5_remapped_domain_Bow_at_Banff_ERA5_merged_201203.nc', '/Users/kasrakeshavarz/Documents/github-repos/summa-model-specific/tests/notebooks/forcings/Bow_at_Banff_ERA5_remapped_domain_Bow_at_Banff_ERA5_merged_201204.nc', '/Users/kasrakeshavarz/Documents/github-repos/summa-model-specific/tests/notebooks/forcings/Bow_at_Banff_ERA5_remapped_domain_Bow_at_Banff_ERA5_merged_201205.nc', '/Users/kasrakeshavarz/Documents/github-repos/summa-model-specific/tests/notebooks/forcings/Bow_at_Banff_ERA5_remapped_domain_Bow_at_Banff_ERA5_merged_201206.nc', '/Users/kasrakeshavarz/Documents/github-repos/summa-model-specific/tests/notebooks/forcings/Bow_at_Banff_ERA5_remapped_domain_Bow_at_Banff_ERA5_merged_201207.nc', '/Users/kasrakeshavarz/Documents/github-repos/summa-model-specific/tests/notebooks/forcings/Bow_at_Banff_ERA5_remapped_domain_Bow_at_Banff_ERA5_merged_201208.nc', '/Users/kasrakeshavarz/Documents/github-repos/summa-model-specific/tests/notebooks/forcings/Bow_at_Banff_ERA5_remapped_domain_Bow_at_Banff_ERA5_merged_201209.nc', '/Users/kasrakeshavarz/Documents/github-repos/summa-model-specific/tests/notebooks/forcings/Bow_at_Banff_ERA5_remapped_domain_Bow_at_Banff_ERA5_merged_201210.nc', '/Users/kasrakeshavarz/Documents/github-repos/summa-model-specific/tests/notebooks/forcings/Bow_at_Banff_ERA5_remapped_domain_Bow_at_Banff_ERA5_merged_201211.nc', '/Users/kasrakeshavarz/Documents/github-repos/summa-model-specific/tests/notebooks/forcings/Bow_at_Banff_ERA5_remapped_domain_Bow_at_Banff_ERA5_merged_201212.nc']\n",
       "GRU count: 169\n",
       "HRU count: 169\n",
       "Rivers segments: 169 \n",
       "Initialized: ['attrs', 'forcing', 'cold_state']"
      ]
     },
     "execution_count": 10,
     "metadata": {},
     "output_type": "execute_result"
    }
   ],
   "source": [
    "exp"
   ]
  }
 ],
 "metadata": {
  "kernelspec": {
   "display_name": "summaflow",
   "language": "python",
   "name": "summaflow"
  },
  "language_info": {
   "codemirror_mode": {
    "name": "ipython",
    "version": 3
   },
   "file_extension": ".py",
   "mimetype": "text/x-python",
   "name": "python",
   "nbconvert_exporter": "python",
   "pygments_lexer": "ipython3",
   "version": "3.12.9"
  }
 },
 "nbformat": 4,
 "nbformat_minor": 5
}
