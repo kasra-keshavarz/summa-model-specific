{
 "cells": [
  {
   "cell_type": "code",
   "execution_count": null,
   "id": "8f093374-dfb0-41ea-a998-821926e767ec",
   "metadata": {
    "editable": true,
    "slideshow": {
     "slide_type": ""
    },
    "tags": []
   },
   "outputs": [],
   "source": [
    "# summaflow library\n",
    "from summaflow import (\n",
    "    Stats,\n",
    "    GeoLayer,\n",
    ")\n",
    "\n",
    "# 3rd party libraries\n",
    "import pandas as pd\n",
    "\n",
    "# built-in libraries\n",
    "import os"
   ]
  },
  {
   "cell_type": "code",
   "execution_count": null,
   "id": "31c0e26e-3f70-4f67-8850-20fb9c998228",
   "metadata": {},
   "outputs": [],
   "source": [
    "root_path = '../test-stats/'\n",
    "stat_file = os.path.join(root_path, 'summaflow_stats_NA_NALCMS_landcover_2020_30m.csv')\n",
    "\n",
    "sample = pd.read_csv(stat_file, header=0, index_col=0)"
   ]
  },
  {
   "cell_type": "code",
   "execution_count": null,
   "id": "417998e1-85bf-4715-99ec-460fe5a856dc",
   "metadata": {},
   "outputs": [],
   "source": [
    "s = Stats.from_maf(stat_file)"
   ]
  },
  {
   "cell_type": "code",
   "execution_count": null,
   "id": "1c451fd9-27be-4055-8e70-1801c8159ec9",
   "metadata": {
    "editable": true,
    "slideshow": {
     "slide_type": ""
    },
    "tags": []
   },
   "outputs": [],
   "source": [
    "s['frac']"
   ]
  },
  {
   "cell_type": "code",
   "execution_count": null,
   "id": "55669a42-5f51-471d-a2c6-f233ed4cf8ae",
   "metadata": {},
   "outputs": [],
   "source": [
    "s.stats"
   ]
  }
 ],
 "metadata": {
  "kernelspec": {
   "display_name": "summaflow",
   "language": "python",
   "name": "summaflow"
  },
  "language_info": {
   "codemirror_mode": {
    "name": "ipython",
    "version": 3
   },
   "file_extension": ".py",
   "mimetype": "text/x-python",
   "name": "python",
   "nbconvert_exporter": "python",
   "pygments_lexer": "ipython3",
   "version": "3.12.9"
  }
 },
 "nbformat": 4,
 "nbformat_minor": 5
}
